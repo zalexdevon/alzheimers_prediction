{
 "cells": [
  {
   "cell_type": "code",
   "execution_count": null,
   "metadata": {},
   "outputs": [
    {
     "data": {
      "text/plain": [
       "'d:\\\\DA_workspace\\\\alzheimers_prediction\\\\src'"
      ]
     },
     "execution_count": 1,
     "metadata": {},
     "output_type": "execute_result"
    }
   ],
   "source": [
    "import os\n",
    "\n",
    "\n",
    "os.chdir(\"../\")\n",
    "\n",
    "\n",
    "os.getcwd()\n"
   ]
  },
  {
   "cell_type": "code",
   "execution_count": null,
   "metadata": {},
   "outputs": [],
   "source": [
    "from classifier.Mylib import myfuncs\n"
   ]
  },
  {
   "cell_type": "code",
   "execution_count": null,
   "metadata": {},
   "outputs": [
    {
     "data": {
      "application/vnd.microsoft.datawrangler.viewer.v0+json": {
       "columns": [
        {
         "name": "index",
         "rawType": "int64",
         "type": "integer"
        },
        {
         "name": "Age_num",
         "rawType": "object",
         "type": "unknown"
        },
        {
         "name": "Cognitive_Test_Score_num",
         "rawType": "object",
         "type": "unknown"
        },
        {
         "name": "Education_Level_num",
         "rawType": "object",
         "type": "unknown"
        },
        {
         "name": "BMI_num",
         "rawType": "object",
         "type": "unknown"
        },
        {
         "name": "Gender_nom_Male",
         "rawType": "object",
         "type": "unknown"
        },
        {
         "name": "living_place_urban_or_rural_nom_Urban",
         "rawType": "object",
         "type": "unknown"
        },
        {
         "name": "Country_nom_Australia",
         "rawType": "object",
         "type": "unknown"
        },
        {
         "name": "Country_nom_Brazil",
         "rawType": "object",
         "type": "unknown"
        },
        {
         "name": "Country_nom_Canada",
         "rawType": "object",
         "type": "unknown"
        },
        {
         "name": "Country_nom_China",
         "rawType": "object",
         "type": "unknown"
        },
        {
         "name": "Country_nom_France",
         "rawType": "object",
         "type": "unknown"
        },
        {
         "name": "Country_nom_Germany",
         "rawType": "object",
         "type": "unknown"
        },
        {
         "name": "Country_nom_India",
         "rawType": "object",
         "type": "unknown"
        },
        {
         "name": "Country_nom_Italy",
         "rawType": "object",
         "type": "unknown"
        },
        {
         "name": "Country_nom_Japan",
         "rawType": "object",
         "type": "unknown"
        },
        {
         "name": "Country_nom_Mexico",
         "rawType": "object",
         "type": "unknown"
        },
        {
         "name": "Country_nom_Norway",
         "rawType": "object",
         "type": "unknown"
        },
        {
         "name": "Country_nom_Russia",
         "rawType": "object",
         "type": "unknown"
        },
        {
         "name": "Country_nom_Saudi Arabia",
         "rawType": "object",
         "type": "unknown"
        },
        {
         "name": "Country_nom_South Africa",
         "rawType": "object",
         "type": "unknown"
        },
        {
         "name": "Country_nom_South Korea",
         "rawType": "object",
         "type": "unknown"
        },
        {
         "name": "Country_nom_Spain",
         "rawType": "object",
         "type": "unknown"
        },
        {
         "name": "Country_nom_Sweden",
         "rawType": "object",
         "type": "unknown"
        },
        {
         "name": "Country_nom_UK",
         "rawType": "object",
         "type": "unknown"
        },
        {
         "name": "Country_nom_USA",
         "rawType": "object",
         "type": "unknown"
        },
        {
         "name": "Employment_Status_nom_Retired",
         "rawType": "object",
         "type": "unknown"
        },
        {
         "name": "Employment_Status_nom_Unemployed",
         "rawType": "object",
         "type": "unknown"
        },
        {
         "name": "Marital_Status_nom_Single",
         "rawType": "object",
         "type": "unknown"
        },
        {
         "name": "Marital_Status_nom_Widowed",
         "rawType": "object",
         "type": "unknown"
        },
        {
         "name": "do_get_Diabetes_bin",
         "rawType": "object",
         "type": "unknown"
        },
        {
         "name": "do_Family_History_bin",
         "rawType": "object",
         "type": "unknown"
        },
        {
         "name": "Physical_Activity_Level_ord",
         "rawType": "object",
         "type": "unknown"
        },
        {
         "name": "do_get_Genetic_Risk_Factor_bin",
         "rawType": "object",
         "type": "unknown"
        },
        {
         "name": "Income_Level_ord",
         "rawType": "object",
         "type": "unknown"
        },
        {
         "name": "Depression_Level_ord",
         "rawType": "object",
         "type": "unknown"
        },
        {
         "name": "Cholesterol_Level_ord",
         "rawType": "object",
         "type": "unknown"
        },
        {
         "name": "do_get_Hypertension_bin",
         "rawType": "object",
         "type": "unknown"
        },
        {
         "name": "Smoking_Status_level_ord",
         "rawType": "object",
         "type": "unknown"
        },
        {
         "name": "Diet_level_ord",
         "rawType": "object",
         "type": "unknown"
        },
        {
         "name": "Alcohol_Consumption_Level_ord",
         "rawType": "object",
         "type": "unknown"
        },
        {
         "name": "Air_Pollution_Exposure_level_ord",
         "rawType": "object",
         "type": "unknown"
        },
        {
         "name": "Social_Engagement_Level_ord",
         "rawType": "object",
         "type": "unknown"
        },
        {
         "name": "Sleep_Quality_Level_ord",
         "rawType": "object",
         "type": "unknown"
        },
        {
         "name": "Stress_Levels_ord",
         "rawType": "object",
         "type": "unknown"
        }
       ],
       "conversionMethod": "pd.DataFrame",
       "ref": "1ff7d96d-1025-4f4b-a386-d40062724bf9",
       "rows": [
        [
         "0",
         "-0.45706013293007025",
         "0.810990980631986",
         "-1.1273738682294603",
         "1.7025017576638772",
         "1.0",
         "1.0",
         "1.0",
         "0.0",
         "0.0",
         "0.0",
         "0.0",
         "0.0",
         "0.0",
         "0.0",
         "0.0",
         "0.0",
         "0.0",
         "0.0",
         "0.0",
         "0.0",
         "0.0",
         "0.0",
         "0.0",
         "0.0",
         "0.0",
         "0.0",
         "0.0",
         "0.0",
         "0.0",
         "1.0",
         "0.0",
         "0.0",
         "0.0",
         "1.0",
         "0.0",
         "1.0",
         "1.0",
         "2.0",
         "1.0",
         "2.0",
         "0.0",
         "1.0",
         "1.0",
         "0.0"
        ],
        [
         "1",
         "-0.8423767099422804",
         "0.26518643205175224",
         "0.6097417794451648",
         "-1.463976264505014",
         "1.0",
         "1.0",
         "0.0",
         "0.0",
         "1.0",
         "0.0",
         "0.0",
         "0.0",
         "0.0",
         "0.0",
         "0.0",
         "0.0",
         "0.0",
         "0.0",
         "0.0",
         "0.0",
         "0.0",
         "0.0",
         "0.0",
         "0.0",
         "0.0",
         "0.0",
         "0.0",
         "0.0",
         "1.0",
         "0.0",
         "0.0",
         "2.0",
         "0.0",
         "1.0",
         "1.0",
         "0.0",
         "0.0",
         "0.0",
         "0.0",
         "2.0",
         "2.0",
         "0.0",
         "2.0",
         "0.0"
        ],
        [
         "2",
         "0.15944639028946603",
         "1.6545071011650747",
         "0.08860708514277728",
         "0.4233285169201531",
         "1.0",
         "0.0",
         "0.0",
         "0.0",
         "0.0",
         "0.0",
         "0.0",
         "0.0",
         "0.0",
         "0.0",
         "0.0",
         "0.0",
         "0.0",
         "0.0",
         "0.0",
         "0.0",
         "0.0",
         "1.0",
         "0.0",
         "0.0",
         "0.0",
         "0.0",
         "1.0",
         "1.0",
         "0.0",
         "0.0",
         "0.0",
         "2.0",
         "0.0",
         "0.0",
         "2.0",
         "0.0",
         "1.0",
         "2.0",
         "1.0",
         "0.0",
         "2.0",
         "0.0",
         "2.0",
         "0.0"
        ],
        [
         "3",
         "-0.45706013293007025",
         "-0.5783296884813364",
         "-0.7799507386945352",
         "-1.3171858926163902",
         "0.0",
         "0.0",
         "0.0",
         "0.0",
         "0.0",
         "1.0",
         "0.0",
         "0.0",
         "0.0",
         "0.0",
         "0.0",
         "0.0",
         "0.0",
         "0.0",
         "0.0",
         "0.0",
         "0.0",
         "0.0",
         "0.0",
         "0.0",
         "0.0",
         "1.0",
         "0.0",
         "0.0",
         "1.0",
         "0.0",
         "0.0",
         "1.0",
         "0.0",
         "2.0",
         "1.0",
         "1.0",
         "0.0",
         "2.0",
         "0.0",
         "1.0",
         "1.0",
         "0.0",
         "0.0",
         "2.0"
        ],
        [
         "4",
         "0.08238307488702398",
         "-1.6203201903163282",
         "-1.6485085625318479",
         "0.9685498982207565",
         "0.0",
         "1.0",
         "0.0",
         "0.0",
         "0.0",
         "0.0",
         "0.0",
         "0.0",
         "0.0",
         "0.0",
         "0.0",
         "0.0",
         "0.0",
         "0.0",
         "0.0",
         "1.0",
         "0.0",
         "0.0",
         "0.0",
         "0.0",
         "0.0",
         "0.0",
         "0.0",
         "1.0",
         "0.0",
         "0.0",
         "0.0",
         "0.0",
         "0.0",
         "2.0",
         "0.0",
         "0.0",
         "1.0",
         "1.0",
         "1.0",
         "1.0",
         "0.0",
         "1.0",
         "0.0",
         "2.0"
        ]
       ],
       "shape": {
        "columns": 44,
        "rows": 5
       }
      },
      "text/html": [
       "<div>\n",
       "<style scoped>\n",
       "    .dataframe tbody tr th:only-of-type {\n",
       "        vertical-align: middle;\n",
       "    }\n",
       "\n",
       "    .dataframe tbody tr th {\n",
       "        vertical-align: top;\n",
       "    }\n",
       "\n",
       "    .dataframe thead th {\n",
       "        text-align: right;\n",
       "    }\n",
       "</style>\n",
       "<table border=\"1\" class=\"dataframe\">\n",
       "  <thead>\n",
       "    <tr style=\"text-align: right;\">\n",
       "      <th></th>\n",
       "      <th>Age_num</th>\n",
       "      <th>Cognitive_Test_Score_num</th>\n",
       "      <th>Education_Level_num</th>\n",
       "      <th>BMI_num</th>\n",
       "      <th>Gender_nom_Male</th>\n",
       "      <th>living_place_urban_or_rural_nom_Urban</th>\n",
       "      <th>Country_nom_Australia</th>\n",
       "      <th>Country_nom_Brazil</th>\n",
       "      <th>Country_nom_Canada</th>\n",
       "      <th>Country_nom_China</th>\n",
       "      <th>...</th>\n",
       "      <th>Depression_Level_ord</th>\n",
       "      <th>Cholesterol_Level_ord</th>\n",
       "      <th>do_get_Hypertension_bin</th>\n",
       "      <th>Smoking_Status_level_ord</th>\n",
       "      <th>Diet_level_ord</th>\n",
       "      <th>Alcohol_Consumption_Level_ord</th>\n",
       "      <th>Air_Pollution_Exposure_level_ord</th>\n",
       "      <th>Social_Engagement_Level_ord</th>\n",
       "      <th>Sleep_Quality_Level_ord</th>\n",
       "      <th>Stress_Levels_ord</th>\n",
       "    </tr>\n",
       "  </thead>\n",
       "  <tbody>\n",
       "    <tr>\n",
       "      <th>0</th>\n",
       "      <td>-0.45706</td>\n",
       "      <td>0.810991</td>\n",
       "      <td>-1.127374</td>\n",
       "      <td>1.702502</td>\n",
       "      <td>1.0</td>\n",
       "      <td>1.0</td>\n",
       "      <td>1.0</td>\n",
       "      <td>0.0</td>\n",
       "      <td>0.0</td>\n",
       "      <td>0.0</td>\n",
       "      <td>...</td>\n",
       "      <td>0.0</td>\n",
       "      <td>1.0</td>\n",
       "      <td>1.0</td>\n",
       "      <td>2.0</td>\n",
       "      <td>1.0</td>\n",
       "      <td>2.0</td>\n",
       "      <td>0.0</td>\n",
       "      <td>1.0</td>\n",
       "      <td>1.0</td>\n",
       "      <td>0.0</td>\n",
       "    </tr>\n",
       "    <tr>\n",
       "      <th>1</th>\n",
       "      <td>-0.842377</td>\n",
       "      <td>0.265186</td>\n",
       "      <td>0.609742</td>\n",
       "      <td>-1.463976</td>\n",
       "      <td>1.0</td>\n",
       "      <td>1.0</td>\n",
       "      <td>0.0</td>\n",
       "      <td>0.0</td>\n",
       "      <td>1.0</td>\n",
       "      <td>0.0</td>\n",
       "      <td>...</td>\n",
       "      <td>1.0</td>\n",
       "      <td>0.0</td>\n",
       "      <td>0.0</td>\n",
       "      <td>0.0</td>\n",
       "      <td>0.0</td>\n",
       "      <td>2.0</td>\n",
       "      <td>2.0</td>\n",
       "      <td>0.0</td>\n",
       "      <td>2.0</td>\n",
       "      <td>0.0</td>\n",
       "    </tr>\n",
       "    <tr>\n",
       "      <th>2</th>\n",
       "      <td>0.159446</td>\n",
       "      <td>1.654507</td>\n",
       "      <td>0.088607</td>\n",
       "      <td>0.423329</td>\n",
       "      <td>1.0</td>\n",
       "      <td>0.0</td>\n",
       "      <td>0.0</td>\n",
       "      <td>0.0</td>\n",
       "      <td>0.0</td>\n",
       "      <td>0.0</td>\n",
       "      <td>...</td>\n",
       "      <td>2.0</td>\n",
       "      <td>0.0</td>\n",
       "      <td>1.0</td>\n",
       "      <td>2.0</td>\n",
       "      <td>1.0</td>\n",
       "      <td>0.0</td>\n",
       "      <td>2.0</td>\n",
       "      <td>0.0</td>\n",
       "      <td>2.0</td>\n",
       "      <td>0.0</td>\n",
       "    </tr>\n",
       "    <tr>\n",
       "      <th>3</th>\n",
       "      <td>-0.45706</td>\n",
       "      <td>-0.57833</td>\n",
       "      <td>-0.779951</td>\n",
       "      <td>-1.317186</td>\n",
       "      <td>0.0</td>\n",
       "      <td>0.0</td>\n",
       "      <td>0.0</td>\n",
       "      <td>0.0</td>\n",
       "      <td>0.0</td>\n",
       "      <td>1.0</td>\n",
       "      <td>...</td>\n",
       "      <td>1.0</td>\n",
       "      <td>1.0</td>\n",
       "      <td>0.0</td>\n",
       "      <td>2.0</td>\n",
       "      <td>0.0</td>\n",
       "      <td>1.0</td>\n",
       "      <td>1.0</td>\n",
       "      <td>0.0</td>\n",
       "      <td>0.0</td>\n",
       "      <td>2.0</td>\n",
       "    </tr>\n",
       "    <tr>\n",
       "      <th>4</th>\n",
       "      <td>0.082383</td>\n",
       "      <td>-1.62032</td>\n",
       "      <td>-1.648509</td>\n",
       "      <td>0.96855</td>\n",
       "      <td>0.0</td>\n",
       "      <td>1.0</td>\n",
       "      <td>0.0</td>\n",
       "      <td>0.0</td>\n",
       "      <td>0.0</td>\n",
       "      <td>0.0</td>\n",
       "      <td>...</td>\n",
       "      <td>0.0</td>\n",
       "      <td>0.0</td>\n",
       "      <td>1.0</td>\n",
       "      <td>1.0</td>\n",
       "      <td>1.0</td>\n",
       "      <td>1.0</td>\n",
       "      <td>0.0</td>\n",
       "      <td>1.0</td>\n",
       "      <td>0.0</td>\n",
       "      <td>2.0</td>\n",
       "    </tr>\n",
       "  </tbody>\n",
       "</table>\n",
       "<p>5 rows × 44 columns</p>\n",
       "</div>"
      ],
      "text/plain": [
       "    Age_num Cognitive_Test_Score_num Education_Level_num   BMI_num  \\\n",
       "0  -0.45706                 0.810991           -1.127374  1.702502   \n",
       "1 -0.842377                 0.265186            0.609742 -1.463976   \n",
       "2  0.159446                 1.654507            0.088607  0.423329   \n",
       "3  -0.45706                 -0.57833           -0.779951 -1.317186   \n",
       "4  0.082383                 -1.62032           -1.648509   0.96855   \n",
       "\n",
       "  Gender_nom_Male living_place_urban_or_rural_nom_Urban Country_nom_Australia  \\\n",
       "0             1.0                                   1.0                   1.0   \n",
       "1             1.0                                   1.0                   0.0   \n",
       "2             1.0                                   0.0                   0.0   \n",
       "3             0.0                                   0.0                   0.0   \n",
       "4             0.0                                   1.0                   0.0   \n",
       "\n",
       "  Country_nom_Brazil Country_nom_Canada Country_nom_China  ...  \\\n",
       "0                0.0                0.0               0.0  ...   \n",
       "1                0.0                1.0               0.0  ...   \n",
       "2                0.0                0.0               0.0  ...   \n",
       "3                0.0                0.0               1.0  ...   \n",
       "4                0.0                0.0               0.0  ...   \n",
       "\n",
       "  Depression_Level_ord Cholesterol_Level_ord do_get_Hypertension_bin  \\\n",
       "0                  0.0                   1.0                     1.0   \n",
       "1                  1.0                   0.0                     0.0   \n",
       "2                  2.0                   0.0                     1.0   \n",
       "3                  1.0                   1.0                     0.0   \n",
       "4                  0.0                   0.0                     1.0   \n",
       "\n",
       "  Smoking_Status_level_ord Diet_level_ord Alcohol_Consumption_Level_ord  \\\n",
       "0                      2.0            1.0                           2.0   \n",
       "1                      0.0            0.0                           2.0   \n",
       "2                      2.0            1.0                           0.0   \n",
       "3                      2.0            0.0                           1.0   \n",
       "4                      1.0            1.0                           1.0   \n",
       "\n",
       "  Air_Pollution_Exposure_level_ord Social_Engagement_Level_ord  \\\n",
       "0                              0.0                         1.0   \n",
       "1                              2.0                         0.0   \n",
       "2                              2.0                         0.0   \n",
       "3                              1.0                         0.0   \n",
       "4                              0.0                         1.0   \n",
       "\n",
       "  Sleep_Quality_Level_ord Stress_Levels_ord  \n",
       "0                     1.0               0.0  \n",
       "1                     2.0               0.0  \n",
       "2                     2.0               0.0  \n",
       "3                     0.0               2.0  \n",
       "4                     0.0               2.0  \n",
       "\n",
       "[5 rows x 44 columns]"
      ]
     },
     "execution_count": 3,
     "metadata": {},
     "output_type": "execute_result"
    }
   ],
   "source": [
    "data = myfuncs.load_python_object(\n",
    "    \"../artifacts/data_transformation_48/train_features.pkl\"\n",
    ")\n",
    "label = myfuncs.load_python_object(\n",
    "    \"../artifacts/data_transformation_48/train_target.pkl\"\n",
    ")\n",
    "\n",
    "\n",
    "\n",
    "data.head()\n"
   ]
  },
  {
   "cell_type": "code",
   "execution_count": null,
   "metadata": {},
   "outputs": [
    {
     "data": {
      "text/plain": [
       "0         No\n",
       "1         No\n",
       "2         No\n",
       "3         No\n",
       "4        Yes\n",
       "        ... \n",
       "53478    Yes\n",
       "53479    Yes\n",
       "53480     No\n",
       "53481    Yes\n",
       "53482     No\n",
       "Name: do_get_Alzheimer, Length: 53483, dtype: object"
      ]
     },
     "execution_count": 6,
     "metadata": {},
     "output_type": "execute_result"
    }
   ],
   "source": [
    "label\n"
   ]
  },
  {
   "cell_type": "code",
   "execution_count": null,
   "metadata": {},
   "outputs": [
    {
     "data": {
      "text/plain": [
       "array([1.0, 0.0], dtype=object)"
      ]
     },
     "execution_count": 5,
     "metadata": {},
     "output_type": "execute_result"
    }
   ],
   "source": [
    "data[\"do_get_Hypertension_bin\"].unique()\n"
   ]
  },
  {
   "cell_type": "code",
   "execution_count": null,
   "metadata": {},
   "outputs": [
    {
     "data": {
      "text/plain": [
       "0    0.0\n",
       "1    0.0\n",
       "2    0.0\n",
       "3    0.0\n",
       "4    1.0\n",
       "Name: do_get_Alzheimer, dtype: float64"
      ]
     },
     "execution_count": 4,
     "metadata": {},
     "output_type": "execute_result"
    }
   ],
   "source": [
    "data1 = myfuncs.load_python_object(\n",
    "    \"../artifacts/data_transformation_37/train_target.pkl\"\n",
    ")\n",
    "\n",
    "data1.head()\n"
   ]
  },
  {
   "cell_type": "code",
   "execution_count": null,
   "metadata": {},
   "outputs": [
    {
     "data": {
      "text/plain": [
       "[array(['No', 'Yes'], dtype=object)]"
      ]
     },
     "execution_count": 5,
     "metadata": {},
     "output_type": "execute_result"
    }
   ],
   "source": [
    "classes = myfuncs.load_python_object(\"../artifacts/data_transformation_37/classes.pkl\")\n",
    "\n",
    "classes\n"
   ]
  }
 ],
 "metadata": {
  "kernelspec": {
   "display_name": "Python 3",
   "language": "python",
   "name": "python3"
  },
  "language_info": {
   "codemirror_mode": {
    "name": "ipython",
    "version": 3
   },
   "file_extension": ".py",
   "mimetype": "text/x-python",
   "name": "python",
   "nbconvert_exporter": "python",
   "pygments_lexer": "ipython3",
   "version": "3.10.0"
  }
 },
 "nbformat": 4,
 "nbformat_minor": 2
}
