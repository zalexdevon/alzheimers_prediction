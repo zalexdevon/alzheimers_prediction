{
 "cells": [
  {
   "cell_type": "code",
   "execution_count": 1,
   "metadata": {},
   "outputs": [
    {
     "data": {
      "text/plain": [
       "'d:\\\\DA_workspace\\\\alzheimers_prediction_newacc\\\\src'"
      ]
     },
     "execution_count": 1,
     "metadata": {},
     "output_type": "execute_result"
    }
   ],
   "source": [
    "import os\n",
    "\n",
    "\n",
    "os.chdir(\"../\")\n",
    "\n",
    "\n",
    "os.getcwd()\n"
   ]
  },
  {
   "cell_type": "code",
   "execution_count": 2,
   "metadata": {},
   "outputs": [],
   "source": [
    "from classifier.Mylib import myfuncs\n"
   ]
  },
  {
   "cell_type": "code",
   "execution_count": 3,
   "metadata": {},
   "outputs": [
    {
     "data": {
      "application/vnd.microsoft.datawrangler.viewer.v0+json": {
       "columns": [
        {
         "name": "index",
         "rawType": "int64",
         "type": "integer"
        },
        {
         "name": "Education_Level_num",
         "rawType": "float64",
         "type": "float"
        },
        {
         "name": "BMI_num",
         "rawType": "float64",
         "type": "float"
        },
        {
         "name": "Cognitive_Test_Score_num",
         "rawType": "float64",
         "type": "float"
        },
        {
         "name": "Age_num",
         "rawType": "float64",
         "type": "float"
        },
        {
         "name": "Employment_Status_nom_Retired",
         "rawType": "float64",
         "type": "float"
        },
        {
         "name": "Employment_Status_nom_Unemployed",
         "rawType": "float64",
         "type": "float"
        },
        {
         "name": "Country_nom_Australia",
         "rawType": "float64",
         "type": "float"
        },
        {
         "name": "Country_nom_Brazil",
         "rawType": "float64",
         "type": "float"
        },
        {
         "name": "Country_nom_Canada",
         "rawType": "float64",
         "type": "float"
        },
        {
         "name": "Country_nom_China",
         "rawType": "float64",
         "type": "float"
        },
        {
         "name": "Country_nom_France",
         "rawType": "float64",
         "type": "float"
        },
        {
         "name": "Country_nom_Germany",
         "rawType": "float64",
         "type": "float"
        },
        {
         "name": "Country_nom_India",
         "rawType": "float64",
         "type": "float"
        },
        {
         "name": "Country_nom_Italy",
         "rawType": "float64",
         "type": "float"
        },
        {
         "name": "Country_nom_Japan",
         "rawType": "float64",
         "type": "float"
        },
        {
         "name": "Country_nom_Mexico",
         "rawType": "float64",
         "type": "float"
        },
        {
         "name": "Country_nom_Norway",
         "rawType": "float64",
         "type": "float"
        },
        {
         "name": "Country_nom_Russia",
         "rawType": "float64",
         "type": "float"
        },
        {
         "name": "Country_nom_Saudi Arabia",
         "rawType": "float64",
         "type": "float"
        },
        {
         "name": "Country_nom_South Africa",
         "rawType": "float64",
         "type": "float"
        },
        {
         "name": "Country_nom_South Korea",
         "rawType": "float64",
         "type": "float"
        },
        {
         "name": "Country_nom_Spain",
         "rawType": "float64",
         "type": "float"
        },
        {
         "name": "Country_nom_Sweden",
         "rawType": "float64",
         "type": "float"
        },
        {
         "name": "Country_nom_UK",
         "rawType": "float64",
         "type": "float"
        },
        {
         "name": "Country_nom_USA",
         "rawType": "float64",
         "type": "float"
        },
        {
         "name": "Marital_Status_nom_Single",
         "rawType": "float64",
         "type": "float"
        },
        {
         "name": "Marital_Status_nom_Widowed",
         "rawType": "float64",
         "type": "float"
        },
        {
         "name": "living_place_urban_or_rural_nom_Urban",
         "rawType": "float64",
         "type": "float"
        },
        {
         "name": "Gender_nom_Male",
         "rawType": "float64",
         "type": "float"
        },
        {
         "name": "do_Family_History_bin",
         "rawType": "float64",
         "type": "float"
        },
        {
         "name": "Smoking_Status_level_ord",
         "rawType": "float64",
         "type": "float"
        },
        {
         "name": "Air_Pollution_Exposure_level_ord",
         "rawType": "float64",
         "type": "float"
        },
        {
         "name": "Income_Level_ord",
         "rawType": "float64",
         "type": "float"
        },
        {
         "name": "Depression_Level_ord",
         "rawType": "float64",
         "type": "float"
        },
        {
         "name": "Alcohol_Consumption_Level_ord",
         "rawType": "float64",
         "type": "float"
        },
        {
         "name": "Stress_Levels_ord",
         "rawType": "float64",
         "type": "float"
        },
        {
         "name": "Social_Engagement_Level_ord",
         "rawType": "float64",
         "type": "float"
        },
        {
         "name": "do_get_Genetic_Risk_Factor_bin",
         "rawType": "float64",
         "type": "float"
        },
        {
         "name": "Physical_Activity_Level_ord",
         "rawType": "float64",
         "type": "float"
        },
        {
         "name": "Sleep_Quality_Level_ord",
         "rawType": "float64",
         "type": "float"
        },
        {
         "name": "Cholesterol_Level_ord",
         "rawType": "float64",
         "type": "float"
        },
        {
         "name": "Diet_level_ord",
         "rawType": "float64",
         "type": "float"
        }
       ],
       "conversionMethod": "pd.DataFrame",
       "ref": "da833e49-bb04-4430-a443-51b78b2c3f25",
       "rows": [
        [
         "0",
         "-1.1273738682294603",
         "1.7025017576638772",
         "0.810990980631986",
         "-0.45706013293007025",
         "0.0",
         "0.0",
         "1.0",
         "0.0",
         "0.0",
         "0.0",
         "0.0",
         "0.0",
         "0.0",
         "0.0",
         "0.0",
         "0.0",
         "0.0",
         "0.0",
         "0.0",
         "0.0",
         "0.0",
         "0.0",
         "0.0",
         "0.0",
         "0.0",
         "0.0",
         "0.0",
         "1.0",
         "1.0",
         "0.0",
         "2.0",
         "0.0",
         "1.0",
         "0.0",
         "2.0",
         "0.0",
         "1.0",
         "0.0",
         "0.0",
         "1.0",
         "1.0",
         "1.0"
        ],
        [
         "1",
         "0.6097417794451648",
         "-1.463976264505014",
         "0.26518643205175224",
         "-0.8423767099422804",
         "0.0",
         "0.0",
         "0.0",
         "0.0",
         "1.0",
         "0.0",
         "0.0",
         "0.0",
         "0.0",
         "0.0",
         "0.0",
         "0.0",
         "0.0",
         "0.0",
         "0.0",
         "0.0",
         "0.0",
         "0.0",
         "0.0",
         "0.0",
         "0.0",
         "0.0",
         "1.0",
         "1.0",
         "1.0",
         "0.0",
         "0.0",
         "2.0",
         "1.0",
         "1.0",
         "2.0",
         "0.0",
         "0.0",
         "0.0",
         "2.0",
         "2.0",
         "0.0",
         "0.0"
        ],
        [
         "2",
         "0.08860708514277728",
         "0.4233285169201531",
         "1.6545071011650747",
         "0.15944639028946603",
         "0.0",
         "1.0",
         "0.0",
         "0.0",
         "0.0",
         "0.0",
         "0.0",
         "0.0",
         "0.0",
         "0.0",
         "0.0",
         "0.0",
         "0.0",
         "0.0",
         "0.0",
         "0.0",
         "0.0",
         "1.0",
         "0.0",
         "0.0",
         "0.0",
         "1.0",
         "0.0",
         "0.0",
         "1.0",
         "0.0",
         "2.0",
         "2.0",
         "0.0",
         "2.0",
         "0.0",
         "0.0",
         "0.0",
         "0.0",
         "2.0",
         "2.0",
         "0.0",
         "1.0"
        ],
        [
         "3",
         "-0.7799507386945352",
         "-1.3171858926163902",
         "-0.5783296884813364",
         "-0.45706013293007025",
         "1.0",
         "0.0",
         "0.0",
         "0.0",
         "0.0",
         "1.0",
         "0.0",
         "0.0",
         "0.0",
         "0.0",
         "0.0",
         "0.0",
         "0.0",
         "0.0",
         "0.0",
         "0.0",
         "0.0",
         "0.0",
         "0.0",
         "0.0",
         "0.0",
         "0.0",
         "1.0",
         "0.0",
         "0.0",
         "0.0",
         "2.0",
         "1.0",
         "2.0",
         "1.0",
         "1.0",
         "2.0",
         "0.0",
         "0.0",
         "1.0",
         "0.0",
         "1.0",
         "0.0"
        ],
        [
         "4",
         "-1.6485085625318479",
         "0.9685498982207565",
         "-1.6203201903163282",
         "0.08238307488702398",
         "0.0",
         "0.0",
         "0.0",
         "0.0",
         "0.0",
         "0.0",
         "0.0",
         "0.0",
         "0.0",
         "0.0",
         "0.0",
         "0.0",
         "0.0",
         "0.0",
         "0.0",
         "1.0",
         "0.0",
         "0.0",
         "0.0",
         "0.0",
         "0.0",
         "1.0",
         "0.0",
         "1.0",
         "0.0",
         "0.0",
         "1.0",
         "0.0",
         "2.0",
         "0.0",
         "1.0",
         "2.0",
         "1.0",
         "0.0",
         "0.0",
         "0.0",
         "0.0",
         "1.0"
        ]
       ],
       "shape": {
        "columns": 42,
        "rows": 5
       }
      },
      "text/html": [
       "<div>\n",
       "<style scoped>\n",
       "    .dataframe tbody tr th:only-of-type {\n",
       "        vertical-align: middle;\n",
       "    }\n",
       "\n",
       "    .dataframe tbody tr th {\n",
       "        vertical-align: top;\n",
       "    }\n",
       "\n",
       "    .dataframe thead th {\n",
       "        text-align: right;\n",
       "    }\n",
       "</style>\n",
       "<table border=\"1\" class=\"dataframe\">\n",
       "  <thead>\n",
       "    <tr style=\"text-align: right;\">\n",
       "      <th></th>\n",
       "      <th>Education_Level_num</th>\n",
       "      <th>BMI_num</th>\n",
       "      <th>Cognitive_Test_Score_num</th>\n",
       "      <th>Age_num</th>\n",
       "      <th>Employment_Status_nom_Retired</th>\n",
       "      <th>Employment_Status_nom_Unemployed</th>\n",
       "      <th>Country_nom_Australia</th>\n",
       "      <th>Country_nom_Brazil</th>\n",
       "      <th>Country_nom_Canada</th>\n",
       "      <th>Country_nom_China</th>\n",
       "      <th>...</th>\n",
       "      <th>Income_Level_ord</th>\n",
       "      <th>Depression_Level_ord</th>\n",
       "      <th>Alcohol_Consumption_Level_ord</th>\n",
       "      <th>Stress_Levels_ord</th>\n",
       "      <th>Social_Engagement_Level_ord</th>\n",
       "      <th>do_get_Genetic_Risk_Factor_bin</th>\n",
       "      <th>Physical_Activity_Level_ord</th>\n",
       "      <th>Sleep_Quality_Level_ord</th>\n",
       "      <th>Cholesterol_Level_ord</th>\n",
       "      <th>Diet_level_ord</th>\n",
       "    </tr>\n",
       "  </thead>\n",
       "  <tbody>\n",
       "    <tr>\n",
       "      <th>0</th>\n",
       "      <td>-1.127374</td>\n",
       "      <td>1.702502</td>\n",
       "      <td>0.810991</td>\n",
       "      <td>-0.457060</td>\n",
       "      <td>0.0</td>\n",
       "      <td>0.0</td>\n",
       "      <td>1.0</td>\n",
       "      <td>0.0</td>\n",
       "      <td>0.0</td>\n",
       "      <td>0.0</td>\n",
       "      <td>...</td>\n",
       "      <td>1.0</td>\n",
       "      <td>0.0</td>\n",
       "      <td>2.0</td>\n",
       "      <td>0.0</td>\n",
       "      <td>1.0</td>\n",
       "      <td>0.0</td>\n",
       "      <td>0.0</td>\n",
       "      <td>1.0</td>\n",
       "      <td>1.0</td>\n",
       "      <td>1.0</td>\n",
       "    </tr>\n",
       "    <tr>\n",
       "      <th>1</th>\n",
       "      <td>0.609742</td>\n",
       "      <td>-1.463976</td>\n",
       "      <td>0.265186</td>\n",
       "      <td>-0.842377</td>\n",
       "      <td>0.0</td>\n",
       "      <td>0.0</td>\n",
       "      <td>0.0</td>\n",
       "      <td>0.0</td>\n",
       "      <td>1.0</td>\n",
       "      <td>0.0</td>\n",
       "      <td>...</td>\n",
       "      <td>1.0</td>\n",
       "      <td>1.0</td>\n",
       "      <td>2.0</td>\n",
       "      <td>0.0</td>\n",
       "      <td>0.0</td>\n",
       "      <td>0.0</td>\n",
       "      <td>2.0</td>\n",
       "      <td>2.0</td>\n",
       "      <td>0.0</td>\n",
       "      <td>0.0</td>\n",
       "    </tr>\n",
       "    <tr>\n",
       "      <th>2</th>\n",
       "      <td>0.088607</td>\n",
       "      <td>0.423329</td>\n",
       "      <td>1.654507</td>\n",
       "      <td>0.159446</td>\n",
       "      <td>0.0</td>\n",
       "      <td>1.0</td>\n",
       "      <td>0.0</td>\n",
       "      <td>0.0</td>\n",
       "      <td>0.0</td>\n",
       "      <td>0.0</td>\n",
       "      <td>...</td>\n",
       "      <td>0.0</td>\n",
       "      <td>2.0</td>\n",
       "      <td>0.0</td>\n",
       "      <td>0.0</td>\n",
       "      <td>0.0</td>\n",
       "      <td>0.0</td>\n",
       "      <td>2.0</td>\n",
       "      <td>2.0</td>\n",
       "      <td>0.0</td>\n",
       "      <td>1.0</td>\n",
       "    </tr>\n",
       "    <tr>\n",
       "      <th>3</th>\n",
       "      <td>-0.779951</td>\n",
       "      <td>-1.317186</td>\n",
       "      <td>-0.578330</td>\n",
       "      <td>-0.457060</td>\n",
       "      <td>1.0</td>\n",
       "      <td>0.0</td>\n",
       "      <td>0.0</td>\n",
       "      <td>0.0</td>\n",
       "      <td>0.0</td>\n",
       "      <td>1.0</td>\n",
       "      <td>...</td>\n",
       "      <td>2.0</td>\n",
       "      <td>1.0</td>\n",
       "      <td>1.0</td>\n",
       "      <td>2.0</td>\n",
       "      <td>0.0</td>\n",
       "      <td>0.0</td>\n",
       "      <td>1.0</td>\n",
       "      <td>0.0</td>\n",
       "      <td>1.0</td>\n",
       "      <td>0.0</td>\n",
       "    </tr>\n",
       "    <tr>\n",
       "      <th>4</th>\n",
       "      <td>-1.648509</td>\n",
       "      <td>0.968550</td>\n",
       "      <td>-1.620320</td>\n",
       "      <td>0.082383</td>\n",
       "      <td>0.0</td>\n",
       "      <td>0.0</td>\n",
       "      <td>0.0</td>\n",
       "      <td>0.0</td>\n",
       "      <td>0.0</td>\n",
       "      <td>0.0</td>\n",
       "      <td>...</td>\n",
       "      <td>2.0</td>\n",
       "      <td>0.0</td>\n",
       "      <td>1.0</td>\n",
       "      <td>2.0</td>\n",
       "      <td>1.0</td>\n",
       "      <td>0.0</td>\n",
       "      <td>0.0</td>\n",
       "      <td>0.0</td>\n",
       "      <td>0.0</td>\n",
       "      <td>1.0</td>\n",
       "    </tr>\n",
       "  </tbody>\n",
       "</table>\n",
       "<p>5 rows × 42 columns</p>\n",
       "</div>"
      ],
      "text/plain": [
       "   Education_Level_num   BMI_num  Cognitive_Test_Score_num   Age_num  \\\n",
       "0            -1.127374  1.702502                  0.810991 -0.457060   \n",
       "1             0.609742 -1.463976                  0.265186 -0.842377   \n",
       "2             0.088607  0.423329                  1.654507  0.159446   \n",
       "3            -0.779951 -1.317186                 -0.578330 -0.457060   \n",
       "4            -1.648509  0.968550                 -1.620320  0.082383   \n",
       "\n",
       "   Employment_Status_nom_Retired  Employment_Status_nom_Unemployed  \\\n",
       "0                            0.0                               0.0   \n",
       "1                            0.0                               0.0   \n",
       "2                            0.0                               1.0   \n",
       "3                            1.0                               0.0   \n",
       "4                            0.0                               0.0   \n",
       "\n",
       "   Country_nom_Australia  Country_nom_Brazil  Country_nom_Canada  \\\n",
       "0                    1.0                 0.0                 0.0   \n",
       "1                    0.0                 0.0                 1.0   \n",
       "2                    0.0                 0.0                 0.0   \n",
       "3                    0.0                 0.0                 0.0   \n",
       "4                    0.0                 0.0                 0.0   \n",
       "\n",
       "   Country_nom_China  ...  Income_Level_ord  Depression_Level_ord  \\\n",
       "0                0.0  ...               1.0                   0.0   \n",
       "1                0.0  ...               1.0                   1.0   \n",
       "2                0.0  ...               0.0                   2.0   \n",
       "3                1.0  ...               2.0                   1.0   \n",
       "4                0.0  ...               2.0                   0.0   \n",
       "\n",
       "   Alcohol_Consumption_Level_ord  Stress_Levels_ord  \\\n",
       "0                            2.0                0.0   \n",
       "1                            2.0                0.0   \n",
       "2                            0.0                0.0   \n",
       "3                            1.0                2.0   \n",
       "4                            1.0                2.0   \n",
       "\n",
       "   Social_Engagement_Level_ord  do_get_Genetic_Risk_Factor_bin  \\\n",
       "0                          1.0                             0.0   \n",
       "1                          0.0                             0.0   \n",
       "2                          0.0                             0.0   \n",
       "3                          0.0                             0.0   \n",
       "4                          1.0                             0.0   \n",
       "\n",
       "   Physical_Activity_Level_ord  Sleep_Quality_Level_ord  \\\n",
       "0                          0.0                      1.0   \n",
       "1                          2.0                      2.0   \n",
       "2                          2.0                      2.0   \n",
       "3                          1.0                      0.0   \n",
       "4                          0.0                      0.0   \n",
       "\n",
       "   Cholesterol_Level_ord  Diet_level_ord  \n",
       "0                    1.0             1.0  \n",
       "1                    0.0             0.0  \n",
       "2                    0.0             1.0  \n",
       "3                    1.0             0.0  \n",
       "4                    0.0             1.0  \n",
       "\n",
       "[5 rows x 42 columns]"
      ]
     },
     "execution_count": 3,
     "metadata": {},
     "output_type": "execute_result"
    }
   ],
   "source": [
    "data = myfuncs.load_python_object(\n",
    "    \"../artifacts/data_transformation_49/train_features.pkl\"\n",
    ")\n",
    "label = myfuncs.load_python_object(\n",
    "    \"../artifacts/data_transformation_49/train_target.pkl\"\n",
    ")\n",
    "\n",
    "\n",
    "\n",
    "data.head()\n"
   ]
  },
  {
   "cell_type": "code",
   "execution_count": null,
   "metadata": {},
   "outputs": [
    {
     "data": {
      "text/plain": [
       "Index(['Education_Level_num', 'BMI_num', 'Cognitive_Test_Score_num', 'Age_num',\n",
       "       'Employment_Status_nom_Retired', 'Employment_Status_nom_Unemployed',\n",
       "       'Country_nom_Australia', 'Country_nom_Brazil', 'Country_nom_Canada',\n",
       "       'Country_nom_China', 'Country_nom_France', 'Country_nom_Germany',\n",
       "       'Country_nom_India', 'Country_nom_Italy', 'Country_nom_Japan',\n",
       "       'Country_nom_Mexico', 'Country_nom_Norway', 'Country_nom_Russia',\n",
       "       'Country_nom_Saudi Arabia', 'Country_nom_South Africa',\n",
       "       'Country_nom_South Korea', 'Country_nom_Spain', 'Country_nom_Sweden',\n",
       "       'Country_nom_UK', 'Country_nom_USA', 'Marital_Status_nom_Single',\n",
       "       'Marital_Status_nom_Widowed', 'living_place_urban_or_rural_nom_Urban',\n",
       "       'Gender_nom_Male', 'do_Family_History_bin', 'Smoking_Status_level_ord',\n",
       "       'Air_Pollution_Exposure_level_ord', 'Income_Level_ord',\n",
       "       'Depression_Level_ord', 'Alcohol_Consumption_Level_ord',\n",
       "       'Stress_Levels_ord', 'Social_Engagement_Level_ord',\n",
       "       'do_get_Genetic_Risk_Factor_bin', 'Physical_Activity_Level_ord',\n",
       "       'Sleep_Quality_Level_ord', 'Cholesterol_Level_ord', 'Diet_level_ord'],\n",
       "      dtype='object')"
      ]
     },
     "execution_count": 4,
     "metadata": {},
     "output_type": "execute_result"
    }
   ],
   "source": [
    "data.columns \n"
   ]
  },
  {
   "cell_type": "code",
   "execution_count": 6,
   "metadata": {},
   "outputs": [
    {
     "data": {
      "text/plain": [
       "False"
      ]
     },
     "execution_count": 6,
     "metadata": {},
     "output_type": "execute_result"
    }
   ],
   "source": [
    "'do_get_Hypertension_bin' in data.columns.tolist()\n"
   ]
  },
  {
   "cell_type": "code",
   "execution_count": null,
   "metadata": {},
   "outputs": [
    {
     "data": {
      "text/plain": [
       "42"
      ]
     },
     "execution_count": 7,
     "metadata": {},
     "output_type": "execute_result"
    }
   ],
   "source": [
    "len(data.columns)\n"
   ]
  },
  {
   "cell_type": "code",
   "execution_count": null,
   "metadata": {},
   "outputs": [
    {
     "data": {
      "text/plain": [
       "0         No\n",
       "1         No\n",
       "2         No\n",
       "3         No\n",
       "4        Yes\n",
       "        ... \n",
       "53478    Yes\n",
       "53479    Yes\n",
       "53480     No\n",
       "53481    Yes\n",
       "53482     No\n",
       "Name: do_get_Alzheimer, Length: 53483, dtype: object"
      ]
     },
     "execution_count": 6,
     "metadata": {},
     "output_type": "execute_result"
    }
   ],
   "source": [
    "label\n"
   ]
  },
  {
   "cell_type": "code",
   "execution_count": null,
   "metadata": {},
   "outputs": [
    {
     "data": {
      "text/plain": [
       "array([1.0, 0.0], dtype=object)"
      ]
     },
     "execution_count": 5,
     "metadata": {},
     "output_type": "execute_result"
    }
   ],
   "source": [
    "data[\"do_get_Hypertension_bin\"].unique()\n"
   ]
  },
  {
   "cell_type": "code",
   "execution_count": null,
   "metadata": {},
   "outputs": [
    {
     "data": {
      "text/plain": [
       "0    0.0\n",
       "1    0.0\n",
       "2    0.0\n",
       "3    0.0\n",
       "4    1.0\n",
       "Name: do_get_Alzheimer, dtype: float64"
      ]
     },
     "execution_count": 4,
     "metadata": {},
     "output_type": "execute_result"
    }
   ],
   "source": [
    "data1 = myfuncs.load_python_object(\n",
    "    \"../artifacts/data_transformation_37/train_target.pkl\"\n",
    ")\n",
    "\n",
    "data1.head()\n"
   ]
  },
  {
   "cell_type": "code",
   "execution_count": null,
   "metadata": {},
   "outputs": [
    {
     "data": {
      "text/plain": [
       "[array(['No', 'Yes'], dtype=object)]"
      ]
     },
     "execution_count": 5,
     "metadata": {},
     "output_type": "execute_result"
    }
   ],
   "source": [
    "classes = myfuncs.load_python_object(\"../artifacts/data_transformation_37/classes.pkl\")\n",
    "\n",
    "classes\n"
   ]
  }
 ],
 "metadata": {
  "kernelspec": {
   "display_name": "Python 3",
   "language": "python",
   "name": "python3"
  },
  "language_info": {
   "codemirror_mode": {
    "name": "ipython",
    "version": 3
   },
   "file_extension": ".py",
   "mimetype": "text/x-python",
   "name": "python",
   "nbconvert_exporter": "python",
   "pygments_lexer": "ipython3",
   "version": "3.10.0"
  }
 },
 "nbformat": 4,
 "nbformat_minor": 2
}
